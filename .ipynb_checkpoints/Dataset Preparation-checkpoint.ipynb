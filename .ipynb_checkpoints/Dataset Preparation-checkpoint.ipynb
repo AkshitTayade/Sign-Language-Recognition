{
 "cells": [
  {
   "cell_type": "code",
   "execution_count": 104,
   "id": "6e1a973b",
   "metadata": {},
   "outputs": [],
   "source": [
    "import pandas as pd\n",
    "import json\n",
    "import os\n",
    "import numpy as np\n",
    "import shutil\n",
    "\n",
    "\n",
    "import warnings \n",
    "warnings.filterwarnings('ignore')"
   ]
  },
  {
   "cell_type": "code",
   "execution_count": 16,
   "id": "fddc37cb",
   "metadata": {},
   "outputs": [],
   "source": [
    "def parse_json(): #converts the json file into a pandas datatype\n",
    "    \n",
    "    \n",
    "    jsonpath = \"archive/WLASL_v0.3.json\" #json path\n",
    "    \n",
    "    #open json file as list of dictionaries\n",
    "    with open(jsonpath) as data_file:    \n",
    "        data = json.load(data_file)  \n",
    "        \n",
    "    header = [\"gloss\"]\n",
    "    \n",
    "\n",
    "    datakey = data[0][\"instances\"][0].keys() #create the column heads \n",
    "    for h in datakey:\n",
    "        header.append(h)\n",
    "\n",
    "    \n",
    "    df = pd.DataFrame(columns=header,dtype = object)#create an empty dataframe\n",
    "    \n",
    "    gloss_list = [d[\"gloss\"] for d in data] #get list of glosses\n",
    "    \n",
    "    #iterate every gloss in the list and apend every video of that gloss\n",
    "    for i in range(len(gloss_list)):\n",
    "        gloss = gloss_list[i]\n",
    "        instances = data[i][\"instances\"] #list of instances\n",
    "        for j in range(len(instances)): #iterate over every instance\n",
    "            entry = instances[j]\n",
    "            entry[\"gloss\"] = gloss\n",
    "            df = df.append(entry,ignore_index=True)\n",
    "    return (df, gloss_list) \n",
    "\n",
    "#uncomment the following if json has not been parsed\n",
    "df, gloss_list,  = parse_json()"
   ]
  },
  {
   "cell_type": "code",
   "execution_count": 17,
   "id": "372e8b9d",
   "metadata": {},
   "outputs": [],
   "source": [
    "df.to_csv(\"WLASL_v0.3.csv\")"
   ]
  },
  {
   "cell_type": "code",
   "execution_count": 26,
   "id": "4dc2c4c2",
   "metadata": {},
   "outputs": [
    {
     "data": {
      "text/plain": [
       "(21083, 12)"
      ]
     },
     "execution_count": 26,
     "metadata": {},
     "output_type": "execute_result"
    }
   ],
   "source": [
    "df.shape"
   ]
  },
  {
   "cell_type": "code",
   "execution_count": 18,
   "id": "27bf3990",
   "metadata": {},
   "outputs": [
    {
     "data": {
      "text/html": [
       "<div>\n",
       "<style scoped>\n",
       "    .dataframe tbody tr th:only-of-type {\n",
       "        vertical-align: middle;\n",
       "    }\n",
       "\n",
       "    .dataframe tbody tr th {\n",
       "        vertical-align: top;\n",
       "    }\n",
       "\n",
       "    .dataframe thead th {\n",
       "        text-align: right;\n",
       "    }\n",
       "</style>\n",
       "<table border=\"1\" class=\"dataframe\">\n",
       "  <thead>\n",
       "    <tr style=\"text-align: right;\">\n",
       "      <th></th>\n",
       "      <th>gloss</th>\n",
       "      <th>bbox</th>\n",
       "      <th>fps</th>\n",
       "      <th>frame_end</th>\n",
       "      <th>frame_start</th>\n",
       "      <th>instance_id</th>\n",
       "      <th>signer_id</th>\n",
       "      <th>source</th>\n",
       "      <th>split</th>\n",
       "      <th>url</th>\n",
       "      <th>variation_id</th>\n",
       "      <th>video_id</th>\n",
       "    </tr>\n",
       "  </thead>\n",
       "  <tbody>\n",
       "    <tr>\n",
       "      <th>0</th>\n",
       "      <td>book</td>\n",
       "      <td>[385, 37, 885, 720]</td>\n",
       "      <td>25</td>\n",
       "      <td>-1</td>\n",
       "      <td>1</td>\n",
       "      <td>0</td>\n",
       "      <td>118</td>\n",
       "      <td>aslbrick</td>\n",
       "      <td>train</td>\n",
       "      <td>http://aslbricks.org/New/ASL-Videos/book.mp4</td>\n",
       "      <td>0</td>\n",
       "      <td>69241</td>\n",
       "    </tr>\n",
       "    <tr>\n",
       "      <th>1</th>\n",
       "      <td>book</td>\n",
       "      <td>[190, 25, 489, 370]</td>\n",
       "      <td>25</td>\n",
       "      <td>-1</td>\n",
       "      <td>1</td>\n",
       "      <td>1</td>\n",
       "      <td>90</td>\n",
       "      <td>aslsignbank</td>\n",
       "      <td>train</td>\n",
       "      <td>https://aslsignbank.haskins.yale.edu/dictionar...</td>\n",
       "      <td>0</td>\n",
       "      <td>65225</td>\n",
       "    </tr>\n",
       "    <tr>\n",
       "      <th>2</th>\n",
       "      <td>book</td>\n",
       "      <td>[262, 1, 652, 480]</td>\n",
       "      <td>25</td>\n",
       "      <td>-1</td>\n",
       "      <td>1</td>\n",
       "      <td>2</td>\n",
       "      <td>110</td>\n",
       "      <td>valencia-asl</td>\n",
       "      <td>train</td>\n",
       "      <td>https://www.youtube.com/watch?v=0UsjUE-TXns</td>\n",
       "      <td>0</td>\n",
       "      <td>68011</td>\n",
       "    </tr>\n",
       "    <tr>\n",
       "      <th>3</th>\n",
       "      <td>book</td>\n",
       "      <td>[123, 19, 516, 358]</td>\n",
       "      <td>25</td>\n",
       "      <td>60</td>\n",
       "      <td>1</td>\n",
       "      <td>3</td>\n",
       "      <td>113</td>\n",
       "      <td>lillybauer</td>\n",
       "      <td>train</td>\n",
       "      <td>https://www.youtube.com/watch?v=1QOYOZ3g-aY</td>\n",
       "      <td>0</td>\n",
       "      <td>68208</td>\n",
       "    </tr>\n",
       "    <tr>\n",
       "      <th>4</th>\n",
       "      <td>book</td>\n",
       "      <td>[95, 0, 1180, 720]</td>\n",
       "      <td>25</td>\n",
       "      <td>-1</td>\n",
       "      <td>1</td>\n",
       "      <td>4</td>\n",
       "      <td>109</td>\n",
       "      <td>valencia-asl</td>\n",
       "      <td>train</td>\n",
       "      <td>https://www.youtube.com/watch?v=aGtIHKEdCds</td>\n",
       "      <td>0</td>\n",
       "      <td>68012</td>\n",
       "    </tr>\n",
       "  </tbody>\n",
       "</table>\n",
       "</div>"
      ],
      "text/plain": [
       "  gloss                 bbox fps frame_end frame_start instance_id signer_id  \\\n",
       "0  book  [385, 37, 885, 720]  25        -1           1           0       118   \n",
       "1  book  [190, 25, 489, 370]  25        -1           1           1        90   \n",
       "2  book   [262, 1, 652, 480]  25        -1           1           2       110   \n",
       "3  book  [123, 19, 516, 358]  25        60           1           3       113   \n",
       "4  book   [95, 0, 1180, 720]  25        -1           1           4       109   \n",
       "\n",
       "         source  split                                                url  \\\n",
       "0      aslbrick  train       http://aslbricks.org/New/ASL-Videos/book.mp4   \n",
       "1   aslsignbank  train  https://aslsignbank.haskins.yale.edu/dictionar...   \n",
       "2  valencia-asl  train        https://www.youtube.com/watch?v=0UsjUE-TXns   \n",
       "3    lillybauer  train        https://www.youtube.com/watch?v=1QOYOZ3g-aY   \n",
       "4  valencia-asl  train        https://www.youtube.com/watch?v=aGtIHKEdCds   \n",
       "\n",
       "  variation_id video_id  \n",
       "0            0    69241  \n",
       "1            0    65225  \n",
       "2            0    68011  \n",
       "3            0    68208  \n",
       "4            0    68012  "
      ]
     },
     "execution_count": 18,
     "metadata": {},
     "output_type": "execute_result"
    }
   ],
   "source": [
    "df.head()"
   ]
  },
  {
   "cell_type": "code",
   "execution_count": 25,
   "id": "4735ff26",
   "metadata": {},
   "outputs": [
    {
     "name": "stdout",
     "output_type": "stream",
     "text": [
      "11980\n"
     ]
    }
   ],
   "source": [
    "ct = 0\n",
    "\n",
    "for i in os.listdir('archive/videos/'):\n",
    "    ct += 1 \n",
    "print(ct)"
   ]
  },
  {
   "cell_type": "code",
   "execution_count": 27,
   "id": "69571aec",
   "metadata": {},
   "outputs": [],
   "source": [
    "# so we have lot of missing videos"
   ]
  },
  {
   "cell_type": "code",
   "execution_count": 93,
   "id": "89355778",
   "metadata": {
    "scrolled": false
   },
   "outputs": [
    {
     "name": "stdout",
     "output_type": "stream",
     "text": [
      "drink = 15\n",
      "before = 16\n",
      "go = 15\n",
      "thin = 16\n",
      "cool = 16\n"
     ]
    }
   ],
   "source": [
    "gloss_list = list(df['gloss'].unique())\n",
    "\n",
    "for gloss in gloss_list:\n",
    "    ct = 0\n",
    "    ids = list(df[df['gloss'] == gloss].video_id)\n",
    "\n",
    "    for i in os.listdir('archive/videos/'):\n",
    "        filename = os.path.splitext(i)[0]\n",
    "\n",
    "        if filename in ids:\n",
    "            ct += 1\n",
    "    \n",
    "    if ct >= 15:\n",
    "        print(\"{} = {}\".format(gloss, ct))"
   ]
  },
  {
   "cell_type": "code",
   "execution_count": 103,
   "id": "e7901848",
   "metadata": {},
   "outputs": [],
   "source": [
    "# we have selected to move forward with actions - thin, drink, go"
   ]
  },
  {
   "cell_type": "markdown",
   "id": "e7fda208",
   "metadata": {},
   "source": [
    "## Creating folder for specific actions"
   ]
  },
  {
   "cell_type": "code",
   "execution_count": 111,
   "id": "8edb09f2",
   "metadata": {},
   "outputs": [],
   "source": [
    "actions = ['before', 'go', 'cool', 'thin', 'drink']\n",
    "\n",
    "os.mkdir('Dataset')\n",
    "\n",
    "for i in actions:\n",
    "    os.mkdir(os.path.join('Dataset', i))"
   ]
  },
  {
   "cell_type": "code",
   "execution_count": 112,
   "id": "2d39dfdd",
   "metadata": {},
   "outputs": [],
   "source": [
    "src_dir = 'archive/videos/'\n",
    "\n",
    "for i in os.listdir(src_dir):\n",
    "    filename = os.path.splitext(i)[0]\n",
    "    \n",
    "    for each_action in actions:\n",
    "        ids = list(df[df['gloss'] == each_action].video_id)\n",
    "        \n",
    "        if filename in ids:\n",
    "            shutil.copyfile(src= os.path.join(src_dir, i), dst=os.path.join('Dataset', each_action, i))"
   ]
  },
  {
   "cell_type": "code",
   "execution_count": 113,
   "id": "cef278a5",
   "metadata": {},
   "outputs": [
    {
     "name": "stdout",
     "output_type": "stream",
     "text": [
      "before = 16\n",
      "cool = 16\n",
      "drink = 15\n",
      "go = 15\n",
      "thin = 16\n"
     ]
    }
   ],
   "source": [
    "# checking if copying has been performed or not\n",
    "for i in os.listdir('Dataset/'):\n",
    "    ct = 0\n",
    "    for j in os.listdir(os.path.join('Dataset', i)):\n",
    "        ct += 1 \n",
    "\n",
    "    print('{} = {}'.format(i, ct))"
   ]
  }
 ],
 "metadata": {
  "kernelspec": {
   "display_name": "akshit_venv",
   "language": "python",
   "name": "akshit_venv"
  },
  "language_info": {
   "codemirror_mode": {
    "name": "ipython",
    "version": 3
   },
   "file_extension": ".py",
   "mimetype": "text/x-python",
   "name": "python",
   "nbconvert_exporter": "python",
   "pygments_lexer": "ipython3",
   "version": "3.8.13"
  }
 },
 "nbformat": 4,
 "nbformat_minor": 5
}
