{
 "cells": [
  {
   "cell_type": "code",
   "execution_count": 20,
   "id": "d93e65a2",
   "metadata": {},
   "outputs": [],
   "source": [
    "import numpy as np\n",
    "import pandas as pd\n",
    "import os\n",
    "\n",
    "from keras.callbacks import ModelCheckpoint\n",
    "from sklearn.model_selection import train_test_split\n",
    "from sklearn.utils import shuffle\n",
    "from tensorflow.keras.utils import to_categorical\n",
    "from tensorflow.keras.optimizers import Adam\n",
    "from tensorflow.keras.models import Sequential\n",
    "from tensorflow.keras.layers import LSTM, Dense, Dropout\n",
    "from tensorflow.keras.callbacks import EarlyStopping\n",
    "from sklearn.metrics import multilabel_confusion_matrix, accuracy_score, log_loss\n",
    "from livelossplot import PlotLossesKeras\n",
    "from keras_tuner.tuners import RandomSearch\n",
    "from tensorflow.keras.models import load_model\n",
    "\n",
    "import winsound\n",
    "\n",
    "import warnings\n",
    "warnings.filterwarnings('ignore')"
   ]
  },
  {
   "cell_type": "markdown",
   "id": "07b3f508",
   "metadata": {},
   "source": [
    "## Structuring Extracted Key Points"
   ]
  },
  {
   "cell_type": "code",
   "execution_count": 2,
   "id": "a8f157f5",
   "metadata": {},
   "outputs": [],
   "source": [
    "# actions = ['drink', 'go', 'How are you', 'NTMU']\n",
    "actions = ['drink', 'go', 'thin']"
   ]
  },
  {
   "cell_type": "code",
   "execution_count": 3,
   "id": "45eca50d",
   "metadata": {},
   "outputs": [
    {
     "data": {
      "text/plain": [
       "{'drink': 0, 'go': 1, 'thin': 2}"
      ]
     },
     "execution_count": 3,
     "metadata": {},
     "output_type": "execute_result"
    }
   ],
   "source": [
    "label_map = {label:num for num, label in enumerate(actions)}\n",
    "label_map"
   ]
  },
  {
   "cell_type": "code",
   "execution_count": 4,
   "id": "44648317",
   "metadata": {},
   "outputs": [],
   "source": [
    "# now we have to structure our data\n",
    "# our data should look like (44, 30, 1662)\n",
    "# we have 44 videos in total,\n",
    "# each video consists of 30 frames,\n",
    "# and each frame has 1662 extracted values\n",
    "\n",
    "sequence_length = 30\n",
    "sequences, labels = [], []\n",
    "\n",
    "for action in os.listdir('Extracted'):\n",
    "    for each_vid in os.listdir(os.path.join('Extracted', action)):\n",
    "        window = []\n",
    "        for frame_num in range(sequence_length):\n",
    "            res = np.load(os.path.join('Extracted', action, each_vid, \"{}.npy\".format(frame_num)))\n",
    "            window.append(res)\n",
    "        sequences.append(window)\n",
    "        labels.append(label_map[action])"
   ]
  },
  {
   "cell_type": "code",
   "execution_count": 5,
   "id": "439460ae",
   "metadata": {},
   "outputs": [
    {
     "data": {
      "text/plain": [
       "((73, 30, 1662), (73, 3))"
      ]
     },
     "execution_count": 5,
     "metadata": {},
     "output_type": "execute_result"
    }
   ],
   "source": [
    "X = np.array(sequences)\n",
    "Y = to_categorical(np.array(labels)).astype(int)\n",
    "\n",
    "X.shape, Y.shape"
   ]
  },
  {
   "cell_type": "code",
   "execution_count": 6,
   "id": "133b5cfd",
   "metadata": {},
   "outputs": [],
   "source": [
    "c = list(zip(X, Y))\n",
    "\n",
    "c = shuffle(c, random_state=42)\n",
    "\n",
    "X, Y = zip(*c)"
   ]
  },
  {
   "cell_type": "code",
   "execution_count": 7,
   "id": "5b223a2d",
   "metadata": {},
   "outputs": [
    {
     "data": {
      "text/plain": [
       "((73, 30, 1662), (73, 3))"
      ]
     },
     "execution_count": 7,
     "metadata": {},
     "output_type": "execute_result"
    }
   ],
   "source": [
    "X = np.array(X)\n",
    "Y = np.array(Y)\n",
    "X.shape, Y.shape"
   ]
  },
  {
   "cell_type": "code",
   "execution_count": 8,
   "id": "f6980621",
   "metadata": {},
   "outputs": [],
   "source": [
    "#np.save('data', data)"
   ]
  },
  {
   "cell_type": "code",
   "execution_count": 9,
   "id": "29c0f20b",
   "metadata": {},
   "outputs": [
    {
     "data": {
      "text/plain": [
       "((62, 30, 1662), (11, 30, 1662))"
      ]
     },
     "execution_count": 9,
     "metadata": {},
     "output_type": "execute_result"
    }
   ],
   "source": [
    "x_train, x_test, y_train, y_test = train_test_split(X, Y, test_size=0.15)\n",
    "x_train.shape, x_test.shape"
   ]
  },
  {
   "cell_type": "markdown",
   "id": "030f833f",
   "metadata": {},
   "source": [
    "## LSTM Architecture"
   ]
  },
  {
   "cell_type": "code",
   "execution_count": 8,
   "id": "be40429c",
   "metadata": {},
   "outputs": [
    {
     "name": "stdout",
     "output_type": "stream",
     "text": [
      "Trial 10 Complete [00h 14m 50s]\n",
      "val_accuracy: 0.5454545617103577\n",
      "\n",
      "Best val_accuracy So Far: 1.0\n",
      "Total elapsed time: 03h 01m 23s\n",
      "INFO:tensorflow:Oracle triggered exit\n"
     ]
    }
   ],
   "source": [
    "def build_model(hp):\n",
    "    model = Sequential()\n",
    "    model.add(\n",
    "        LSTM(hp.Int('input_unit',min_value=32,max_value=512,step=32), return_sequences=True, activation='relu', input_shape=(30,1662))\n",
    "    )\n",
    "    \n",
    "    for i in range(hp.Int('num_layers_LSTM', 2, 10)):\n",
    "        model.add(LSTM(units=hp.Int('units_' + str(i),\n",
    "                                            min_value=32,\n",
    "                                            max_value=512,\n",
    "                                            step=32),\n",
    "                                            activation='relu',\n",
    "                                            return_sequences=True))\n",
    "        \n",
    "    model.add(\n",
    "        LSTM(hp.Int('input_unit_last_layer',min_value=32,max_value=512,step=32), return_sequences=False, activation='relu')\n",
    "    )\n",
    "    \n",
    "    for i in range(hp.Int('num_layers_dense', 2, 6)):\n",
    "        model.add(Dense(units=hp.Int('units__dense_' + str(i),\n",
    "                                            min_value=32,\n",
    "                                            max_value=512,\n",
    "                                            step=32),\n",
    "                                            activation='relu'))\n",
    "        \n",
    "    model.add(Dense(len(actions), activation='softmax'))\n",
    "    \n",
    "    model.compile(optimizer='Adam', loss='categorical_crossentropy', metrics=['accuracy'])\n",
    "    \n",
    "    return(model)\n",
    "\n",
    "tuner= RandomSearch(\n",
    "        build_model,\n",
    "        objective='val_accuracy',\n",
    "        overwrite=True,\n",
    "        directory='project1'\n",
    "        )\n",
    "\n",
    "tuner.search(\n",
    "        x=x_train,\n",
    "        y=y_train,\n",
    "        epochs=800,\n",
    "        validation_data=(x_test,y_test)\n",
    "        )\n",
    "\n",
    "frequency = 3500  # Set Frequency To 2500 Hertz\n",
    "duration = 2000  # Set Duration To 1000 ms == 1 second\n",
    "winsound.Beep(frequency, duration)"
   ]
  },
  {
   "cell_type": "code",
   "execution_count": 14,
   "id": "8f4fac96",
   "metadata": {},
   "outputs": [
    {
     "name": "stdout",
     "output_type": "stream",
     "text": [
      "Results summary\n",
      "Results in project1\\untitled_project\n",
      "Showing 10 best trials\n",
      "Objective(name=\"val_accuracy\", direction=\"max\")\n",
      "\n",
      "Trial 02 summary\n",
      "Hyperparameters:\n",
      "input_unit: 96\n",
      "num_layers_LSTM: 2\n",
      "units_0: 256\n",
      "units_1: 32\n",
      "input_unit_last_layer: 320\n",
      "num_layers_dense: 2\n",
      "units__dense_0: 192\n",
      "units__dense_1: 64\n",
      "units_2: 64\n",
      "units__dense_2: 128\n",
      "units_3: 160\n",
      "units__dense_3: 320\n",
      "units__dense_4: 128\n",
      "units__dense_5: 256\n",
      "Score: 1.0\n",
      "\n",
      "Trial 04 summary\n",
      "Hyperparameters:\n",
      "input_unit: 160\n",
      "num_layers_LSTM: 6\n",
      "units_0: 384\n",
      "units_1: 320\n",
      "input_unit_last_layer: 480\n",
      "num_layers_dense: 6\n",
      "units__dense_0: 480\n",
      "units__dense_1: 288\n",
      "units_2: 352\n",
      "units__dense_2: 416\n",
      "units_3: 160\n",
      "units__dense_3: 288\n",
      "units__dense_4: 256\n",
      "units__dense_5: 96\n",
      "units_4: 416\n",
      "units_5: 32\n",
      "Score: 0.7272727489471436\n",
      "\n",
      "Trial 00 summary\n",
      "Hyperparameters:\n",
      "input_unit: 64\n",
      "num_layers_LSTM: 3\n",
      "units_0: 416\n",
      "units_1: 288\n",
      "input_unit_last_layer: 352\n",
      "num_layers_dense: 3\n",
      "units__dense_0: 352\n",
      "units__dense_1: 288\n",
      "units_2: 32\n",
      "units__dense_2: 32\n",
      "Score: 0.6363636255264282\n",
      "\n",
      "Trial 01 summary\n",
      "Hyperparameters:\n",
      "input_unit: 512\n",
      "num_layers_LSTM: 4\n",
      "units_0: 512\n",
      "units_1: 192\n",
      "input_unit_last_layer: 384\n",
      "num_layers_dense: 6\n",
      "units__dense_0: 160\n",
      "units__dense_1: 512\n",
      "units_2: 384\n",
      "units__dense_2: 96\n",
      "units_3: 32\n",
      "units__dense_3: 32\n",
      "units__dense_4: 32\n",
      "units__dense_5: 32\n",
      "Score: 0.6363636255264282\n",
      "\n",
      "Trial 03 summary\n",
      "Hyperparameters:\n",
      "input_unit: 448\n",
      "num_layers_LSTM: 5\n",
      "units_0: 352\n",
      "units_1: 192\n",
      "input_unit_last_layer: 64\n",
      "num_layers_dense: 6\n",
      "units__dense_0: 224\n",
      "units__dense_1: 384\n",
      "units_2: 416\n",
      "units__dense_2: 448\n",
      "units_3: 160\n",
      "units__dense_3: 192\n",
      "units__dense_4: 224\n",
      "units__dense_5: 352\n",
      "units_4: 32\n",
      "Score: 0.6363636255264282\n",
      "\n",
      "Trial 05 summary\n",
      "Hyperparameters:\n",
      "input_unit: 384\n",
      "num_layers_LSTM: 6\n",
      "units_0: 96\n",
      "units_1: 192\n",
      "input_unit_last_layer: 224\n",
      "num_layers_dense: 5\n",
      "units__dense_0: 128\n",
      "units__dense_1: 224\n",
      "units_2: 96\n",
      "units__dense_2: 512\n",
      "units_3: 512\n",
      "units__dense_3: 32\n",
      "units__dense_4: 160\n",
      "units__dense_5: 320\n",
      "units_4: 64\n",
      "units_5: 256\n",
      "Score: 0.6363636255264282\n",
      "\n",
      "Trial 06 summary\n",
      "Hyperparameters:\n",
      "input_unit: 352\n",
      "num_layers_LSTM: 3\n",
      "units_0: 288\n",
      "units_1: 384\n",
      "input_unit_last_layer: 288\n",
      "num_layers_dense: 3\n",
      "units__dense_0: 192\n",
      "units__dense_1: 480\n",
      "units_2: 352\n",
      "units__dense_2: 448\n",
      "units_3: 192\n",
      "units__dense_3: 352\n",
      "units__dense_4: 256\n",
      "units__dense_5: 256\n",
      "units_4: 256\n",
      "units_5: 480\n",
      "Score: 0.6363636255264282\n",
      "\n",
      "Trial 07 summary\n",
      "Hyperparameters:\n",
      "input_unit: 416\n",
      "num_layers_LSTM: 6\n",
      "units_0: 512\n",
      "units_1: 448\n",
      "input_unit_last_layer: 480\n",
      "num_layers_dense: 2\n",
      "units__dense_0: 224\n",
      "units__dense_1: 384\n",
      "units_2: 64\n",
      "units__dense_2: 448\n",
      "units_3: 448\n",
      "units__dense_3: 128\n",
      "units__dense_4: 448\n",
      "units__dense_5: 384\n",
      "units_4: 512\n",
      "units_5: 352\n",
      "Score: 0.6363636255264282\n",
      "\n",
      "Trial 08 summary\n",
      "Hyperparameters:\n",
      "input_unit: 320\n",
      "num_layers_LSTM: 10\n",
      "units_0: 32\n",
      "units_1: 288\n",
      "input_unit_last_layer: 288\n",
      "num_layers_dense: 4\n",
      "units__dense_0: 96\n",
      "units__dense_1: 224\n",
      "units_2: 448\n",
      "units__dense_2: 416\n",
      "units_3: 192\n",
      "units__dense_3: 224\n",
      "units__dense_4: 224\n",
      "units__dense_5: 32\n",
      "units_4: 224\n",
      "units_5: 224\n",
      "units_6: 32\n",
      "units_7: 32\n",
      "units_8: 32\n",
      "units_9: 32\n",
      "Score: 0.6363636255264282\n",
      "\n",
      "Trial 09 summary\n",
      "Hyperparameters:\n",
      "input_unit: 480\n",
      "num_layers_LSTM: 4\n",
      "units_0: 352\n",
      "units_1: 96\n",
      "input_unit_last_layer: 256\n",
      "num_layers_dense: 5\n",
      "units__dense_0: 352\n",
      "units__dense_1: 64\n",
      "units_2: 64\n",
      "units__dense_2: 288\n",
      "units_3: 288\n",
      "units__dense_3: 96\n",
      "units__dense_4: 224\n",
      "units__dense_5: 416\n",
      "units_4: 192\n",
      "units_5: 416\n",
      "units_6: 32\n",
      "units_7: 32\n",
      "units_8: 64\n",
      "units_9: 160\n",
      "Score: 0.5454545617103577\n"
     ]
    }
   ],
   "source": [
    "tuner.results_summary()"
   ]
  },
  {
   "cell_type": "code",
   "execution_count": 13,
   "id": "b6b9ef4c",
   "metadata": {},
   "outputs": [
    {
     "name": "stdout",
     "output_type": "stream",
     "text": [
      "WARNING:tensorflow:Layer lstm will not use cuDNN kernels since it doesn't meet the criteria. It will use a generic GPU kernel as fallback when running on GPU.\n",
      "WARNING:tensorflow:Layer lstm_1 will not use cuDNN kernels since it doesn't meet the criteria. It will use a generic GPU kernel as fallback when running on GPU.\n",
      "WARNING:tensorflow:Layer lstm_2 will not use cuDNN kernels since it doesn't meet the criteria. It will use a generic GPU kernel as fallback when running on GPU.\n",
      "WARNING:tensorflow:Layer lstm_3 will not use cuDNN kernels since it doesn't meet the criteria. It will use a generic GPU kernel as fallback when running on GPU.\n",
      "WARNING:tensorflow:Detecting that an object or model or tf.train.Checkpoint is being deleted with unrestored values. See the following logs for the specific values in question. To silence these warnings, use `status.expect_partial()`. See https://www.tensorflow.org/api_docs/python/tf/train/Checkpoint#restorefor details about the status object returned by the restore function.\n",
      "WARNING:tensorflow:Value in checkpoint could not be found in the restored object: (root).optimizer.iter\n",
      "WARNING:tensorflow:Value in checkpoint could not be found in the restored object: (root).optimizer.beta_1\n",
      "WARNING:tensorflow:Value in checkpoint could not be found in the restored object: (root).optimizer.beta_2\n",
      "WARNING:tensorflow:Value in checkpoint could not be found in the restored object: (root).optimizer.decay\n",
      "WARNING:tensorflow:Value in checkpoint could not be found in the restored object: (root).optimizer.learning_rate\n",
      "Model: \"sequential\"\n",
      "_________________________________________________________________\n",
      " Layer (type)                Output Shape              Param #   \n",
      "=================================================================\n",
      " lstm (LSTM)                 (None, 30, 96)            675456    \n",
      "                                                                 \n",
      " lstm_1 (LSTM)               (None, 30, 256)           361472    \n",
      "                                                                 \n",
      " lstm_2 (LSTM)               (None, 30, 32)            36992     \n",
      "                                                                 \n",
      " lstm_3 (LSTM)               (None, 320)               451840    \n",
      "                                                                 \n",
      " dense (Dense)               (None, 192)               61632     \n",
      "                                                                 \n",
      " dense_1 (Dense)             (None, 64)                12352     \n",
      "                                                                 \n",
      " dense_2 (Dense)             (None, 3)                 195       \n",
      "                                                                 \n",
      "=================================================================\n",
      "Total params: 1,599,939\n",
      "Trainable params: 1,599,939\n",
      "Non-trainable params: 0\n",
      "_________________________________________________________________\n"
     ]
    }
   ],
   "source": [
    "best_model = tuner.get_best_models(num_models=1)[0]\n",
    "best_model.summary()\n",
    "# save_model(best_model,'SLRLSTM.h5')"
   ]
  },
  {
   "cell_type": "raw",
   "id": "39a074a0",
   "metadata": {},
   "source": [
    "model = Sequential()\n",
    "model.add(LSTM(64, return_sequences=True, activation='relu', input_shape=(30,1662)))\n",
    "model.add(LSTM(128, return_sequences=True, activation='relu'))\n",
    "model.add(LSTM(64, return_sequences=False, activation='relu'))\n",
    "model.add(Dense(64, activation='relu'))\n",
    "model.add(Dense(32, activation='relu'))\n",
    "model.add(Dense(len(actions), activation='softmax'))"
   ]
  },
  {
   "cell_type": "code",
   "execution_count": 118,
   "id": "6f19a947",
   "metadata": {},
   "outputs": [],
   "source": [
    "model = Sequential()\n",
    "model.add(LSTM(96, return_sequences=True, activation='tanh', input_shape=(30,1662)))\n",
    "model.add(LSTM(256, return_sequences=True, activation='tanh'))\n",
    "model.add(LSTM(32, return_sequences=True, activation='tanh'))\n",
    "model.add(LSTM(320, return_sequences=False, activation='tanh'))\n",
    "model.add(Dense(192, activation='relu'))\n",
    "model.add(Dropout(0.25))\n",
    "model.add(Dense(64, activation='relu'))\n",
    "model.add(Dropout(0.25))\n",
    "model.add(Dense(len(actions), activation='softmax'))"
   ]
  },
  {
   "cell_type": "code",
   "execution_count": 119,
   "id": "1950aa8c",
   "metadata": {},
   "outputs": [
    {
     "name": "stdout",
     "output_type": "stream",
     "text": [
      "Model: \"sequential_13\"\n",
      "_________________________________________________________________\n",
      " Layer (type)                Output Shape              Param #   \n",
      "=================================================================\n",
      " lstm_52 (LSTM)              (None, 30, 96)            675456    \n",
      "                                                                 \n",
      " lstm_53 (LSTM)              (None, 30, 256)           361472    \n",
      "                                                                 \n",
      " lstm_54 (LSTM)              (None, 30, 32)            36992     \n",
      "                                                                 \n",
      " lstm_55 (LSTM)              (None, 320)               451840    \n",
      "                                                                 \n",
      " dense_47 (Dense)            (None, 192)               61632     \n",
      "                                                                 \n",
      " dropout_18 (Dropout)        (None, 192)               0         \n",
      "                                                                 \n",
      " dense_48 (Dense)            (None, 64)                12352     \n",
      "                                                                 \n",
      " dropout_19 (Dropout)        (None, 64)                0         \n",
      "                                                                 \n",
      " dense_49 (Dense)            (None, 3)                 195       \n",
      "                                                                 \n",
      "=================================================================\n",
      "Total params: 1,599,939\n",
      "Trainable params: 1,599,939\n",
      "Non-trainable params: 0\n",
      "_________________________________________________________________\n"
     ]
    }
   ],
   "source": [
    "model.summary()"
   ]
  },
  {
   "cell_type": "code",
   "execution_count": 120,
   "id": "30232e23",
   "metadata": {},
   "outputs": [],
   "source": [
    "model.compile(optimizer=\"adam\", loss='categorical_crossentropy', metrics=['accuracy'])"
   ]
  },
  {
   "cell_type": "code",
   "execution_count": 121,
   "id": "28615f67",
   "metadata": {},
   "outputs": [
    {
     "data": {
      "image/png": "[encoded data removed]",
      "text/plain": [
       "<Figure size 864x576 with 2 Axes>"
      ]
     },
     "metadata": {
      "needs_background": "light"
     },
     "output_type": "display_data"
    },
    {
     "name": "stdout",
     "output_type": "stream",
     "text": [
      "accuracy\n",
      "\ttraining         \t (min:    0.290, max:    1.000, cur:    1.000)\n",
      "\tvalidation       \t (min:    0.364, max:    1.000, cur:    0.909)\n",
      "Loss\n",
      "\ttraining         \t (min:    0.000, max:    1.377, cur:    0.000)\n",
      "\tvalidation       \t (min:    0.005, max:    2.335, cur:    0.579)\n"
     ]
    },
    {
     "data": {
      "text/plain": [
       "<keras.callbacks.History at 0x27976078fd0>"
      ]
     },
     "execution_count": 121,
     "metadata": {},
     "output_type": "execute_result"
    }
   ],
   "source": [
    "# es = EarlyStopping(monitor = 'loss',\n",
    "#                    patience = 50,\n",
    "#                    verbose = 0,\n",
    "#                    restore_best_weights = True)\n",
    "\n",
    "checkpoint = ModelCheckpoint('my_best_model.epoch{epoch:02d}-loss{val_loss:.2f}.hdf5', monitor=\"val_loss\", mode=\"min\", save_best_only=True, verbose=0)\n",
    "\n",
    "model.fit(x_train, y_train, epochs=600, callbacks=[PlotLossesKeras(), checkpoint], verbose=0, validation_data=(x_test, y_test))"
   ]
  },
  {
   "cell_type": "code",
   "execution_count": 27,
   "id": "8c2b7afb",
   "metadata": {},
   "outputs": [],
   "source": [
    "model = load_model(\"my_best_model.epoch225-loss0.10.hdf5\")"
   ]
  },
  {
   "cell_type": "code",
   "execution_count": 28,
   "id": "59b97fdb",
   "metadata": {},
   "outputs": [
    {
     "name": "stdout",
     "output_type": "stream",
     "text": [
      "1/1 [==============================] - 2s 2s/step\n",
      "Loss =  0.33746103261662275\n",
      "0.8181818181818182\n"
     ]
    }
   ],
   "source": [
    "y_pred = model.predict(x_test)\n",
    "print(\"Loss = \", log_loss(y_test, y_pred))\n",
    "\n",
    "y_pred = np.argmax(y_pred, axis=1).tolist()\n",
    "y_truth = np.argmax(y_test, axis=1).tolist()\n",
    "\n",
    "print(accuracy_score(y_truth, y_pred))"
   ]
  },
  {
   "cell_type": "code",
   "execution_count": 30,
   "id": "3a5dde8d",
   "metadata": {},
   "outputs": [
    {
     "name": "stdout",
     "output_type": "stream",
     "text": [
      "2/2 [==============================] - 0s 68ms/step\n",
      "Loss =  0.16976453190275811\n",
      "0.967741935483871\n"
     ]
    }
   ],
   "source": [
    "y_pred = model.predict(x_train)\n",
    "print(\"Loss = \", log_loss(y_train, y_pred))\n",
    "\n",
    "y_pred = np.argmax(y_pred, axis=1).tolist()\n",
    "y_truth = np.argmax(y_train, axis=1).tolist()\n",
    "\n",
    "print(accuracy_score(y_truth, y_pred))"
   ]
  },
  {
   "cell_type": "code",
   "execution_count": 14,
   "id": "bf4d5ac0",
   "metadata": {},
   "outputs": [
    {
     "data": {
      "text/plain": [
       "[2, 2, 0, 1, 1, 1, 0, 0, 1, 1, 0]"
      ]
     },
     "execution_count": 14,
     "metadata": {},
     "output_type": "execute_result"
    }
   ],
   "source": [
    "# np.argmax(y_pred, axis=1)\n",
    "y_pred"
   ]
  },
  {
   "cell_type": "code",
   "execution_count": 15,
   "id": "cd9542d6",
   "metadata": {},
   "outputs": [
    {
     "data": {
      "text/plain": [
       "array([2, 2, 2, 1, 1, 1, 2, 0, 1, 1, 0], dtype=int64)"
      ]
     },
     "execution_count": 15,
     "metadata": {},
     "output_type": "execute_result"
    }
   ],
   "source": [
    "np.argmax(y_test, axis=1)"
   ]
  },
  {
   "cell_type": "code",
   "execution_count": 16,
   "id": "0c7f83ca",
   "metadata": {},
   "outputs": [
    {
     "data": {
      "text/plain": [
       "array([[[7, 2],\n",
       "        [0, 2]],\n",
       "\n",
       "       [[6, 0],\n",
       "        [0, 5]],\n",
       "\n",
       "       [[7, 0],\n",
       "        [2, 2]]], dtype=int64)"
      ]
     },
     "execution_count": 16,
     "metadata": {},
     "output_type": "execute_result"
    }
   ],
   "source": [
    "multilabel_confusion_matrix(y_truth, y_pred)"
   ]
  },
  {
   "cell_type": "code",
   "execution_count": null,
   "id": "18772d0e",
   "metadata": {},
   "outputs": [],
   "source": []
  }
 ],
 "metadata": {
  "kernelspec": {
   "display_name": "akshit_venv",
   "language": "python",
   "name": "akshit_venv"
  },
  "language_info": {
   "codemirror_mode": {
    "name": "ipython",
    "version": 3
   },
   "file_extension": ".py",
   "mimetype": "text/x-python",
   "name": "python",
   "nbconvert_exporter": "python",
   "pygments_lexer": "ipython3",
   "version": "3.8.13"
  }
 },
 "nbformat": 4,
 "nbformat_minor": 5
}
