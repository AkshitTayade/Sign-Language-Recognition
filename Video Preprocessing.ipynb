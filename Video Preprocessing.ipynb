{
 "cells": [
  {
   "cell_type": "code",
   "execution_count": 1,
   "id": "4360bd47",
   "metadata": {},
   "outputs": [],
   "source": [
    "# loading required libraries\n",
    "import cv2\n",
    "import numpy as np\n",
    "import os\n",
    "from matplotlib import pyplot as plt\n",
    "import time\n",
    "import mediapipe as mp\n",
    "\n",
    "import warnings\n",
    "warnings.filterwarnings('ignore')"
   ]
  },
  {
   "cell_type": "code",
   "execution_count": 2,
   "id": "a76e4fdb",
   "metadata": {},
   "outputs": [],
   "source": [
    "# load holistic model\n",
    "mp_holistic = mp.solutions.holistic\n",
    "# we also want to draw the located coords\n",
    "mp_drawing = mp.solutions.drawing_utils"
   ]
  },
  {
   "cell_type": "code",
   "execution_count": 3,
   "id": "58cdb58f",
   "metadata": {},
   "outputs": [],
   "source": [
    "# define our custom function\n",
    "def mediapipe_detection(frame, model):\n",
    "    frame = cv2.cvtColor(frame, cv2.COLOR_BGR2RGB) # COLOR CONVERSION BGR 2 RGB\n",
    "    frame.flags.writeable = False                  # Image is no longer writeable\n",
    "    results = model.process(frame)                 # Make prediction\n",
    "    frame.flags.writeable = True                   # Image is now writeable \n",
    "    frame = cv2.cvtColor(frame, cv2.COLOR_RGB2BGR) # COLOR COVERSION RGB 2 BGR\n",
    "    return(frame, results)"
   ]
  },
  {
   "cell_type": "code",
   "execution_count": 4,
   "id": "507a1f94",
   "metadata": {},
   "outputs": [],
   "source": [
    "def draw_landmarks(image, results):\n",
    "    mp_drawing.draw_landmarks(image, results.face_landmarks, mp_holistic.FACEMESH_CONTOURS) # Draw face connections\n",
    "    mp_drawing.draw_landmarks(image, results.pose_landmarks, mp_holistic.POSE_CONNECTIONS) # Draw pose connections\n",
    "    mp_drawing.draw_landmarks(image, results.left_hand_landmarks, mp_holistic.HAND_CONNECTIONS) # Draw left hand connections\n",
    "    mp_drawing.draw_landmarks(image, results.right_hand_landmarks, mp_holistic.HAND_CONNECTIONS) # Draw right hand connections"
   ]
  },
  {
   "cell_type": "code",
   "execution_count": 5,
   "id": "f2e91703",
   "metadata": {},
   "outputs": [],
   "source": [
    "cap  = cv2.VideoCapture(0)\n",
    "\n",
    "# lets set our holistic model\n",
    "with mp_holistic.Holistic(min_detection_confidence=0.5, min_tracking_confidence=0.5) as holistic_model:\n",
    "    while(cap.isOpened):\n",
    "        ret, frame = cap.read()\n",
    "\n",
    "        if ret == True:\n",
    "            \n",
    "            # detection on video\n",
    "            frame, results = mediapipe_detection(frame, holistic_model)\n",
    "            draw_landmarks(frame, results)\n",
    "            \n",
    "            cv2.imshow(\"Frame\", frame)\n",
    "\n",
    "        if cv2.waitKey(10) & 0xFF == ord('q'):\n",
    "            break\n",
    "\n",
    "    cap.release()\n",
    "    cv2.destroyAllWindows()"
   ]
  },
  {
   "cell_type": "code",
   "execution_count": 6,
   "id": "3a8da07d",
   "metadata": {},
   "outputs": [
    {
     "data": {
      "text/plain": [
       "33"
      ]
     },
     "execution_count": 6,
     "metadata": {},
     "output_type": "execute_result"
    }
   ],
   "source": [
    "len(results.pose_landmarks.landmark)"
   ]
  },
  {
   "cell_type": "markdown",
   "id": "77786a27",
   "metadata": {},
   "source": [
    "## Extracting key points"
   ]
  },
  {
   "cell_type": "code",
   "execution_count": 7,
   "id": "42478aa3",
   "metadata": {},
   "outputs": [],
   "source": [
    "# face = 468 values\n",
    "# left, right hand = 21 values\n",
    "# face = 33 values"
   ]
  },
  {
   "cell_type": "code",
   "execution_count": 8,
   "id": "cbbf01d3",
   "metadata": {},
   "outputs": [],
   "source": [
    "def extract_keypoints(results):\n",
    "    pose = np.array([[res.x, res.y, res.z, res.visibility] for res in results.pose_landmarks.landmark]).flatten() if results.pose_landmarks else np.zeros(132)\n",
    "    face = np.array([[res.x, res.y, res.z] for res in results.face_landmarks.landmark]).flatten() if results.face_landmarks else np.zeros(1404)\n",
    "    left_hand = np.array([[res.x, res.y, res.z] for res in results.left_hand_landmarks.landmark]).flatten() if results.left_hand_landmarks else np.zeros(21*3)\n",
    "    right_hand = np.array([[res.x, res.y, res.z] for res in results.right_hand_landmarks.landmark]).flatten() if results.right_hand_landmarks else np.zeros(21*3)\n",
    "    \n",
    "    res = np.concatenate([pose, face, left_hand, right_hand])\n",
    "    \n",
    "    return(res)"
   ]
  },
  {
   "cell_type": "code",
   "execution_count": 9,
   "id": "e06d6945",
   "metadata": {},
   "outputs": [
    {
     "data": {
      "text/plain": [
       "array([ 0.53896797,  0.47898901, -0.73038661, ...,  0.        ,\n",
       "        0.        ,  0.        ])"
      ]
     },
     "execution_count": 9,
     "metadata": {},
     "output_type": "execute_result"
    }
   ],
   "source": [
    "extract_keypoints(results)[:-10]"
   ]
  },
  {
   "cell_type": "code",
   "execution_count": 10,
   "id": "21f93b1a",
   "metadata": {},
   "outputs": [],
   "source": [
    "# remember that each frame should now return 1662 values "
   ]
  },
  {
   "cell_type": "markdown",
   "id": "8a603989",
   "metadata": {},
   "source": [
    "## Collecting Key values from each video"
   ]
  },
  {
   "cell_type": "code",
   "execution_count": 11,
   "id": "2a340323",
   "metadata": {},
   "outputs": [
    {
     "data": {
      "text/plain": [
       "64.53333333333333"
      ]
     },
     "execution_count": 11,
     "metadata": {},
     "output_type": "execute_result"
    }
   ],
   "source": [
    "frames = []\n",
    "\n",
    "for i in os.listdir('Dataset/drink/'):\n",
    "    data = cv2.VideoCapture(os.path.join('Dataset/drink/', i))\n",
    "    \n",
    "    frames.append(data.get(cv2.CAP_PROP_FRAME_COUNT))\n",
    "\n",
    "np.mean(frames)\n",
    "\n",
    "# so in average each video is approx 65 frames,\n",
    "# we will get 30 frames per video"
   ]
  },
  {
   "cell_type": "code",
   "execution_count": 12,
   "id": "9d996b60",
   "metadata": {},
   "outputs": [],
   "source": [
    "# we are collecting 30 frames (aka np.array) from each video regardless of video length\n",
    "\n",
    "# how many frames we want to collect from each video\n",
    "sequence_length = 30\n",
    "\n",
    "# for example, we have 6 seconds video @25fps = 150frames\n",
    "# so to get 30 frames out of this at equal lengths\n",
    "# 150/30 = 5, i.e. we have to skip every 5 frames"
   ]
  },
  {
   "cell_type": "code",
   "execution_count": 47,
   "id": "3252c651",
   "metadata": {},
   "outputs": [],
   "source": [
    "actions = ['go', 'thin', 'drink']\n",
    "\n",
    "os.mkdir('Extracted')\n",
    "\n",
    "for i in actions:\n",
    "    os.mkdir(os.path.join('Extracted', i))\n",
    "    \n",
    "for gloss in os.listdir('Dataset'):\n",
    "    for each_vid in os.listdir(os.path.join('Dataset', gloss)):\n",
    "        filename = os.path.splitext(each_vid)[0]\n",
    "        os.mkdir(os.path.join('Extracted', gloss, filename))"
   ]
  },
  {
   "cell_type": "code",
   "execution_count": 48,
   "id": "eeaf1176",
   "metadata": {},
   "outputs": [
    {
     "name": "stdout",
     "output_type": "stream",
     "text": [
      "Dataset\\drink\\17709.mp4 - Extracted Successfully\n",
      "Dataset\\drink\\17710.mp4 - Extracted Successfully\n",
      "Dataset\\drink\\17711.mp4 - Extracted Successfully\n",
      "Dataset\\drink\\17712.mp4 - Extracted Successfully\n",
      "Dataset\\drink\\17713.mp4 - Extracted Successfully\n",
      "Dataset\\drink\\17720.mp4 - Extracted Successfully\n",
      "Dataset\\drink\\17721.mp4 - Extracted Successfully\n",
      "Dataset\\drink\\17722.mp4 - Extracted Successfully\n",
      "Dataset\\drink\\17723.mp4 - Extracted Successfully\n",
      "Dataset\\drink\\17724.mp4 - Extracted Successfully\n",
      "Dataset\\drink\\17733.mp4 - Extracted Successfully\n",
      "Dataset\\drink\\17734.mp4 - Extracted Successfully\n",
      "Dataset\\drink\\65539.mp4 - Extracted Successfully\n",
      "Dataset\\drink\\65540.mp4 - Extracted Successfully\n",
      "Dataset\\drink\\69302.mp4 - Extracted Successfully\n",
      "Dataset\\go\\24940.mp4 - Extracted Successfully\n",
      "Dataset\\go\\24941.mp4 - Extracted Successfully\n",
      "Dataset\\go\\24943.mp4 - Extracted Successfully\n",
      "Dataset\\go\\24946.mp4 - Extracted Successfully\n",
      "Dataset\\go\\24947.mp4 - Extracted Successfully\n",
      "Dataset\\go\\24952.mp4 - Extracted Successfully\n",
      "Dataset\\go\\24954.mp4 - Extracted Successfully\n",
      "Dataset\\go\\24955.mp4 - Extracted Successfully\n",
      "Dataset\\go\\24956.mp4 - Extracted Successfully\n",
      "Dataset\\go\\24960.mp4 - Extracted Successfully\n",
      "Dataset\\go\\24961.mp4 - Extracted Successfully\n",
      "Dataset\\go\\24962.mp4 - Extracted Successfully\n",
      "Dataset\\go\\24973.mp4 - Extracted Successfully\n",
      "Dataset\\go\\65824.mp4 - Extracted Successfully\n",
      "Dataset\\go\\69345.mp4 - Extracted Successfully\n",
      "Dataset\\thin\\57933.mp4 - Extracted Successfully\n",
      "Dataset\\thin\\57934.mp4 - Extracted Successfully\n",
      "Dataset\\thin\\57935.mp4 - Extracted Successfully\n",
      "Dataset\\thin\\57936.mp4 - Extracted Successfully\n",
      "Dataset\\thin\\57937.mp4 - Extracted Successfully\n",
      "Dataset\\thin\\57939.mp4 - Extracted Successfully\n",
      "Dataset\\thin\\57940.mp4 - Extracted Successfully\n",
      "Dataset\\thin\\57941.mp4 - Extracted Successfully\n",
      "Dataset\\thin\\57942.mp4 - Extracted Successfully\n",
      "Dataset\\thin\\57943.mp4 - Extracted Successfully\n",
      "Dataset\\thin\\57947.mp4 - Extracted Successfully\n",
      "Dataset\\thin\\57948.mp4 - Extracted Successfully\n",
      "Dataset\\thin\\57949.mp4 - Extracted Successfully\n",
      "Dataset\\thin\\57953.mp4 - Extracted Successfully\n",
      "Dataset\\thin\\66606.mp4 - Extracted Successfully\n",
      "Dataset\\thin\\66607.mp4 - Extracted Successfully\n"
     ]
    }
   ],
   "source": [
    "for gloss in os.listdir('Dataset/'):\n",
    "    for each_vid in os.listdir(os.path.join('Dataset', gloss)):\n",
    "        \n",
    "        vid_path = os.path.join('Dataset', gloss, each_vid) \n",
    "        filename = os.path.splitext(each_vid)[0]\n",
    "        \n",
    "        video_reader = cv2.VideoCapture(vid_path)\n",
    "\n",
    "        # get total frames of current video\n",
    "        video_frames_count = video_reader.get(cv2.CAP_PROP_FRAME_COUNT)\n",
    "\n",
    "        # calculate the interval after which frames will be considered\n",
    "        skip_frames_window = max(int(video_frames_count/sequence_length), 1)\n",
    "\n",
    "        with mp_holistic.Holistic(min_detection_confidence=0.5, min_tracking_confidence=0.5) as holistic_model:\n",
    "            for frame_counter in range(sequence_length):\n",
    "\n",
    "                # set the current frame position of the video\n",
    "                video_reader.set(cv2.CAP_PROP_POS_FRAMES, frame_counter*skip_frames_window)\n",
    "\n",
    "                ret, frame = video_reader.read()\n",
    "                \n",
    "                if ret == True:\n",
    "                    frame, results = mediapipe_detection(frame, holistic_model)\n",
    "                    draw_landmarks(frame, results)\n",
    "\n",
    "                    if ret != True:\n",
    "                        break\n",
    "\n",
    "                    # export the extracted key points\n",
    "                    keypoints = extract_keypoints(results) \n",
    "                    saving_path = os.path.join('Extracted', gloss, filename, str(frame_counter))\n",
    "                    np.save(saving_path, keypoints)\n",
    "\n",
    "#                 plt.imshow(frame)\n",
    "#                 plt.title(frame_counter)\n",
    "#                 plt.show()\n",
    "\n",
    "            video_reader.release()\n",
    "\n",
    "        print(\"{} - Extracted Successfully\".format(vid_path))"
   ]
  },
  {
   "cell_type": "code",
   "execution_count": 58,
   "id": "abd69412",
   "metadata": {},
   "outputs": [
    {
     "name": "stdout",
     "output_type": "stream",
     "text": [
      "1320\n"
     ]
    }
   ],
   "source": [
    "# checking if all videos has been extracted\n",
    "\n",
    "count = 0\n",
    "\n",
    "for i in os.listdir('Extracted'):\n",
    "    for j in os.listdir(os.path.join('Extracted', i)):\n",
    "        for k in os.listdir(os.path.join('Extracted', i, j)):\n",
    "            count += 1\n",
    "#         print('{} - {}'.format(k, count))\n",
    "print(count)"
   ]
  },
  {
   "cell_type": "code",
   "execution_count": null,
   "id": "a8293bab",
   "metadata": {},
   "outputs": [],
   "source": []
  }
 ],
 "metadata": {
  "kernelspec": {
   "display_name": "akshit_venv",
   "language": "python",
   "name": "akshit_venv"
  },
  "language_info": {
   "codemirror_mode": {
    "name": "ipython",
    "version": 3
   },
   "file_extension": ".py",
   "mimetype": "text/x-python",
   "name": "python",
   "nbconvert_exporter": "python",
   "pygments_lexer": "ipython3",
   "version": "3.8.13"
  }
 },
 "nbformat": 4,
 "nbformat_minor": 5
}
